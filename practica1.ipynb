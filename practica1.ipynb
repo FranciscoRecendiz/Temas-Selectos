{
 "cells": [
  {
   "cell_type": "code",
   "execution_count": null,
   "metadata": {},
   "outputs": [
    {
     "name": "stdout",
     "output_type": "stream",
     "text": [
      "Personas:\n",
      "{'id': 1, 'firstname': 'Dora', 'lastname': 'Skiles', 'email': 'janet.reichel@skiles.com', 'phone': '+19849919033', 'birthday': '1961-08-10', 'gender': 'other', 'address': {'id': 1, 'street': '138 Van Inlet', 'streetName': 'Lucas Square', 'buildingNumber': '38021', 'city': 'Bethelchester', 'zipcode': '97624-0129', 'country': 'Austria', 'country_code': 'AT', 'latitude': 31.638953, 'longitude': 7.861297}, 'website': 'http://jones.biz', 'image': 'http://placeimg.com/640/480/people'}\n",
      "{'id': 2, 'firstname': 'Sylvester', 'lastname': 'Turner', 'email': 'edward.walter@hotmail.com', 'phone': '+15413809734', 'birthday': '1984-07-07', 'gender': 'other', 'address': {'id': 1, 'street': '4819 Shields Neck Apt. 935', 'streetName': 'Roob Track', 'buildingNumber': '5509', 'city': 'Greenfelderton', 'zipcode': '68542', 'country': 'Cape Verde', 'country_code': 'CV', 'latitude': 56.14237, 'longitude': -75.336858}, 'website': 'http://hettinger.org', 'image': 'http://placeimg.com/640/480/people'}\n",
      "{'id': 3, 'firstname': 'Terrance', 'lastname': 'Hackett', 'email': 'zieme.mozell@gmail.com', 'phone': '+14152959191', 'birthday': '1954-05-10', 'gender': 'male', 'address': {'id': 1, 'street': '2396 Smitham Vista Apt. 698', 'streetName': 'Ansel Manors', 'buildingNumber': '77244', 'city': 'Port Jacquesville', 'zipcode': '04421', 'country': 'Liberia', 'country_code': 'LR', 'latitude': 1.243203, 'longitude': 133.950139}, 'website': 'http://friesen.com', 'image': 'http://placeimg.com/640/480/people'}\n",
      "{'id': 4, 'firstname': 'Amiya', 'lastname': 'Hill', 'email': 'floy.kiehn@volkman.com', 'phone': '+19542352431', 'birthday': '1941-01-01', 'gender': 'female', 'address': {'id': 1, 'street': '505 Breitenberg Mount', 'streetName': 'Hoeger Summit', 'buildingNumber': '49962', 'city': 'New Sincere', 'zipcode': '39744-3929', 'country': 'Cyprus', 'country_code': 'CY', 'latitude': 53.982874, 'longitude': -61.518011}, 'website': 'http://hamill.com', 'image': 'http://placeimg.com/640/480/people'}\n",
      "{'id': 5, 'firstname': 'Jeanette', 'lastname': 'Batz', 'email': 'lowell.oreilly@gmail.com', 'phone': '+12815406485', 'birthday': '2001-02-27', 'gender': 'other', 'address': {'id': 1, 'street': '47482 Hilma View', 'streetName': 'Breanna Ranch', 'buildingNumber': '28332', 'city': 'East Phyllismouth', 'zipcode': '48737-6543', 'country': 'Argentina', 'country_code': 'AR', 'latitude': -67.636011, 'longitude': 50.942159}, 'website': 'http://nicolas.com', 'image': 'http://placeimg.com/640/480/people'}\n",
      "\n",
      "Empresas:\n",
      "{'id': 1, 'name': 'White Ltd', 'email': 'kuphal.lori@gaylord.info', 'vat': '0941257314', 'phone': '+12149100957', 'country': 'Mongolia', 'addresses': [{'id': 1, 'street': '942 Freddie Alley Suite 515', 'streetName': 'Walter Square', 'buildingNumber': '47082', 'city': 'Effertzmouth', 'zipcode': '89391-3742', 'country': 'Fiji', 'country_code': 'FJ', 'latitude': -78.183611, 'longitude': -55.500638}, {'id': 1, 'street': '14804 Anais Lake Suite 655', 'streetName': 'Jaylan Oval', 'buildingNumber': '122', 'city': 'Kamrynchester', 'zipcode': '48223', 'country': 'Fiji', 'country_code': 'FJ', 'latitude': 80.02863, 'longitude': 74.710369}, {'id': 1, 'street': '332 Hodkiewicz Gateway Suite 299', 'streetName': 'Macejkovic Loaf', 'buildingNumber': '74856', 'city': 'Schmelerton', 'zipcode': '22170-8526', 'country': 'Greenland', 'country_code': 'GL', 'latitude': 64.293422, 'longitude': 29.104192}, {'id': 1, 'street': '443 Cruickshank Knoll Suite 444', 'streetName': 'Ruth Locks', 'buildingNumber': '7106', 'city': 'Port Gildamouth', 'zipcode': '67075', 'country': 'Montenegro', 'country_code': 'ME', 'latitude': 79.209772, 'longitude': 50.166552}], 'website': 'http://kautzer.com', 'image': 'http://placeimg.com/640/480/people', 'contact': {'id': 1, 'firstname': 'Robyn', 'lastname': 'Eichmann', 'email': 'nash.parisian@will.com', 'phone': '+18502397879', 'birthday': '1999-04-08', 'gender': 'female', 'address': {'id': 1, 'street': '73494 Wisozk Fall', 'streetName': 'Raul Islands', 'buildingNumber': '7881', 'city': 'Cristopherhaven', 'zipcode': '18152-9270', 'country': 'Bosnia & Herzegovina', 'country_code': 'BA', 'latitude': 31.665624, 'longitude': 83.985515}, 'website': 'http://kreiger.com', 'image': 'http://placeimg.com/640/480/people'}}\n",
      "{'id': 2, 'name': 'Kemmer, Streich and Jakubowski', 'email': 'imorar@gmail.com', 'vat': '80671440353', 'phone': '+18475927319', 'country': 'Mongolia', 'addresses': [{'id': 1, 'street': '43804 Ciara Station', 'streetName': 'Langosh Summit', 'buildingNumber': '81846', 'city': 'Lake Ayanatown', 'zipcode': '25561-0753', 'country': 'Denmark', 'country_code': 'DK', 'latitude': 11.88004, 'longitude': 156.039068}, {'id': 1, 'street': '75419 Jaida Summit', 'streetName': 'Bret Keys', 'buildingNumber': '33505', 'city': 'West Zechariahside', 'zipcode': '88317-7411', 'country': 'Belize', 'country_code': 'BZ', 'latitude': 34.22671, 'longitude': -43.608744}, {'id': 1, 'street': '8376 Schuppe Plaza Apt. 908', 'streetName': 'Dianna Fields', 'buildingNumber': '3072', 'city': 'Lake Hettiefurt', 'zipcode': '68502-8256', 'country': 'Singapore', 'country_code': 'SG', 'latitude': -14.640965, 'longitude': -7.621106}, {'id': 1, 'street': '521 Lewis Flat Suite 975', 'streetName': 'Julianne Underpass', 'buildingNumber': '5174', 'city': 'Linwoodberg', 'zipcode': '33788', 'country': 'Nicaragua', 'country_code': 'NI', 'latitude': -36.92355, 'longitude': -162.670722}, {'id': 1, 'street': '145 Garrett Fort', 'streetName': 'Okuneva Plaza', 'buildingNumber': '2222', 'city': 'Dibbertmouth', 'zipcode': '53861-4605', 'country': 'Denmark', 'country_code': 'DK', 'latitude': 4.260509, 'longitude': -165.158038}], 'website': 'http://connelly.com', 'image': 'http://placeimg.com/640/480/people', 'contact': {'id': 1, 'firstname': 'Joanne', 'lastname': 'Zboncak', 'email': 'powlowski.luther@conn.org', 'phone': '+18508105382', 'birthday': '1947-07-22', 'gender': 'female', 'address': {'id': 1, 'street': '71553 Botsford Points Suite 393', 'streetName': 'Will Spur', 'buildingNumber': '69211', 'city': 'Hellenmouth', 'zipcode': '05934-9671', 'country': 'Iceland', 'country_code': 'IS', 'latitude': 25.745577, 'longitude': 103.054705}, 'website': 'http://marks.com', 'image': 'http://placeimg.com/640/480/people'}}\n",
      "{'id': 3, 'name': 'Swift Ltd', 'email': 'richmond.littel@gmail.com', 'vat': '7429239155', 'phone': '+13649373381', 'country': 'Tonga', 'addresses': [{'id': 1, 'street': '723 Turner Station', 'streetName': 'Ortiz Light', 'buildingNumber': '387', 'city': 'New Westley', 'zipcode': '16055-4591', 'country': 'Iceland', 'country_code': 'IS', 'latitude': 3.633089, 'longitude': -87.098897}], 'website': 'http://tremblay.com', 'image': 'http://placeimg.com/640/480/people', 'contact': {'id': 1, 'firstname': 'Marquis', 'lastname': 'Gorczany', 'email': 'west.maci@adams.com', 'phone': '+13305934230', 'birthday': '1977-06-08', 'gender': 'male', 'address': {'id': 1, 'street': '472 Heathcote Ports Suite 130', 'streetName': 'Spinka Fork', 'buildingNumber': '229', 'city': 'Lake Alexiebury', 'zipcode': '80496-8259', 'country': 'Mongolia', 'country_code': 'MN', 'latitude': 87.539795, 'longitude': 171.166247}, 'website': 'http://homenick.net', 'image': 'http://placeimg.com/640/480/people'}}\n",
      "{'id': 4, 'name': 'Johns Group', 'email': 'dario37@gmail.com', 'vat': '256460663', 'phone': '+18647477016', 'country': 'Senegal', 'addresses': [{'id': 1, 'street': '70275 Christa Knolls', 'streetName': 'Koch Dam', 'buildingNumber': '82201', 'city': 'Blockberg', 'zipcode': '73564', 'country': 'Timor-Leste', 'country_code': 'TL', 'latitude': 2.264934, 'longitude': -26.770467}], 'website': 'http://bernhard.com', 'image': 'http://placeimg.com/640/480/people', 'contact': {'id': 1, 'firstname': 'Carmine', 'lastname': 'Cremin', 'email': 'frami.sincere@collier.biz', 'phone': '+12726067316', 'birthday': '1975-02-24', 'gender': 'male', 'address': {'id': 1, 'street': '6211 Axel Trail Suite 320', 'streetName': 'Legros Parkways', 'buildingNumber': '543', 'city': 'West Santos', 'zipcode': '11709-1583', 'country': 'Netherlands', 'country_code': 'NL', 'latitude': -22.901979, 'longitude': -95.173928}, 'website': 'http://krajcik.net', 'image': 'http://placeimg.com/640/480/people'}}\n",
      "{'id': 5, 'name': 'Morar Inc', 'email': 'lauren56@kris.com', 'vat': '78295742', 'phone': '+15752829890', 'country': 'Australia', 'addresses': [{'id': 1, 'street': '64975 Lilliana Forge', 'streetName': 'Eliza Lodge', 'buildingNumber': '64219', 'city': 'Bryanamouth', 'zipcode': '72202-3337', 'country': 'Paraguay', 'country_code': 'PY', 'latitude': -7.806043, 'longitude': 163.920265}, {'id': 1, 'street': '58745 Jaida Extensions', 'streetName': 'Nicholaus Station', 'buildingNumber': '104', 'city': 'East Leviport', 'zipcode': '49101', 'country': 'Lebanon', 'country_code': 'LB', 'latitude': 68.791309, 'longitude': -8.179859}, {'id': 1, 'street': '4118 Larson Extensions Suite 044', 'streetName': 'Arnoldo Crescent', 'buildingNumber': '8711', 'city': 'West Mckennashire', 'zipcode': '77511-7494', 'country': 'Greenland', 'country_code': 'GL', 'latitude': 53.769632, 'longitude': 113.365169}, {'id': 1, 'street': '2532 Goldner Fields Apt. 345', 'streetName': 'Mohr Coves', 'buildingNumber': '1427', 'city': 'Wayneside', 'zipcode': '25704', 'country': 'Namibia', 'country_code': 'NA', 'latitude': 80.991543, 'longitude': 92.120771}], 'website': 'http://brown.com', 'image': 'http://placeimg.com/640/480/people', 'contact': {'id': 1, 'firstname': 'Elise', 'lastname': 'Johnston', 'email': 'nhessel@yahoo.com', 'phone': '+16282135859', 'birthday': '2023-03-05', 'gender': 'female', 'address': {'id': 1, 'street': '58752 Leslie Trail', 'streetName': 'Anabel Stravenue', 'buildingNumber': '32237', 'city': 'East Raleighville', 'zipcode': '74915-5791', 'country': 'Mauritania', 'country_code': 'MR', 'latitude': 77.331793, 'longitude': 112.253507}, 'website': 'http://dickinson.info', 'image': 'http://placeimg.com/640/480/people'}}\n",
      "\n",
      "Productos:\n",
      "{'id': 1, 'name': 'Natus sint odio alias velit.', 'description': 'Autem eligendi impedit sed eum neque iusto sapiente. Et maiores dolor ratione labore quia a eum. Molestiae repudiandae maiores accusantium.', 'ean': '5678103505385', 'upc': '143219553036', 'image': 'http://placeimg.com/640/480/tech', 'images': [{'title': 'Ab et enim distinctio harum.', 'description': 'Quo earum voluptatibus ad autem eum. Atque praesentium quidem sed laborum voluptatem libero. Exercitationem autem sequi inventore dolor.', 'url': 'https://picsum.photos/640/480'}, {'title': 'Eum ea ad voluptates a.', 'description': 'In voluptatem nostrum nulla dolorem dolor. Nostrum neque quia maiores repellat quisquam id. Placeat sed iste omnis iste qui. Harum eligendi iure et quia et maxime.', 'url': 'https://picsum.photos/640/480'}, {'title': 'Et qui dolorem nobis debitis.', 'description': 'Cumque aut fuga fugit qui non aut natus quidem. Autem similique et magnam et. Aut deleniti aliquid et doloremque est. Est mollitia autem labore quos. Numquam eum corporis provident qui unde.', 'url': 'https://picsum.photos/640/480'}], 'net_price': 5.51, 'taxes': 22, 'price': 6.72, 'categories': [50, 51, 52, 53], 'tags': ['dolores', 'et']}\n",
      "{'id': 2, 'name': 'Excepturi quae ex eos quia.', 'description': 'Eius laborum qui ipsa. Aperiam consectetur aut cum. Accusamus maxime autem minima perspiciatis distinctio expedita. Rerum occaecati nisi aspernatur in eligendi.', 'ean': '6408398345750', 'upc': '666861259080', 'image': 'http://placeimg.com/640/480/tech', 'images': [{'title': 'Quia qui recusandae sint.', 'description': 'Rerum facilis facere aut. Voluptatibus suscipit aliquid magnam autem est. Ut voluptatem molestiae facilis.', 'url': 'https://picsum.photos/640/480'}, {'title': 'Eveniet sint at sint saepe.', 'description': 'Quod saepe minus quam accusamus omnis qui reiciendis. Consequatur ut excepturi et tempore hic. Voluptatum magnam omnis est et nisi. Earum animi nihil ea velit voluptate consequatur voluptatem.', 'url': 'https://picsum.photos/640/480'}, {'title': 'Et velit ex minima harum est.', 'description': 'Eaque ea voluptas repellendus modi rem quos qui consequatur. Deleniti et aut sit corrupti iure itaque accusamus. Non accusamus et voluptates. Rerum eaque reiciendis hic velit sint voluptatem aliquid.', 'url': 'https://picsum.photos/640/480'}], 'net_price': 6.45, 'taxes': 22, 'price': 7.87, 'categories': [17, 18, 19, 20, 21], 'tags': ['aperiam']}\n",
      "{'id': 3, 'name': 'Ut est placeat aut occaecati.', 'description': 'Aut laboriosam omnis neque dolorem doloremque a inventore. Impedit harum doloribus laboriosam modi in provident. Qui quisquam sit omnis eius.', 'ean': '2481691239890', 'upc': '216482223355', 'image': 'http://placeimg.com/640/480/tech', 'images': [{'title': 'Est in qui natus alias esse.', 'description': 'Aut nam ea velit. Aut et et accusamus doloribus officiis excepturi inventore voluptatem. Est inventore tenetur assumenda vero in. Pariatur quos et est dolore laborum excepturi nulla eos.', 'url': 'https://picsum.photos/640/480'}, {'title': 'Delectus numquam iste rerum.', 'description': 'Sit excepturi ratione omnis aut necessitatibus delectus. Ducimus vel voluptatum itaque iure sed. Porro quas deserunt dolorum et vel consequatur incidunt.', 'url': 'https://picsum.photos/640/480'}, {'title': 'Ipsam ut sed rerum beatae.', 'description': 'Illum perspiciatis debitis cupiditate sit et. Porro qui est perferendis. Est doloribus aut eum fuga et est dolor. Quaerat amet consequuntur sed quae assumenda perspiciatis.', 'url': 'https://picsum.photos/640/480'}], 'net_price': 1604582.26, 'taxes': 22, 'price': 1957590.36, 'categories': [94, 95], 'tags': ['in', 'et']}\n",
      "{'id': 4, 'name': 'Qui a ut nostrum quasi.', 'description': 'Et possimus iusto quos sed. Quasi voluptas vel hic consequatur. Recusandae nostrum vel nostrum aspernatur illo voluptatem.', 'ean': '7439955334411', 'upc': '461454933162', 'image': 'http://placeimg.com/640/480/tech', 'images': [{'title': 'Eveniet ab et odit ad.', 'description': 'Cum distinctio eligendi velit officiis. Harum qui ex explicabo. Est perferendis mollitia dolorem tenetur quos rem.', 'url': 'https://picsum.photos/640/480'}, {'title': 'Ea labore vel laboriosam sit.', 'description': 'Nisi animi culpa ipsa. Voluptatibus est et quo qui. Sit dolorum accusantium rerum consequatur odit nam.', 'url': 'https://picsum.photos/640/480'}, {'title': 'Ipsam a non quod facilis et.', 'description': 'Asperiores voluptate optio autem ratione qui odio ea. Sed beatae fugiat assumenda optio quia beatae. Vel animi fugit optio voluptatum harum inventore.', 'url': 'https://picsum.photos/640/480'}], 'net_price': 10444026.72, 'taxes': 22, 'price': 12741712.6, 'categories': [17, 18, 19, 20, 21], 'tags': ['qui', 'qui', 'dolorem', 'accusantium', 'facilis', 'autem', 'quae', 'neque']}\n",
      "{'id': 5, 'name': 'Velit ut ducimus qui nam.', 'description': 'Voluptatem distinctio voluptatem aut impedit quis enim non. Est corrupti est omnis ullam beatae ut tempora. Ab tempore eveniet maiores sed. Eum laborum tenetur consequatur ducimus.', 'ean': '3720783899093', 'upc': '761739365474', 'image': 'http://placeimg.com/640/480/tech', 'images': [{'title': 'Vel est quibusdam neque.', 'description': 'Nesciunt quia non molestias laborum. Corporis at sunt magnam illo. Aperiam corporis vel sit. Magnam dolore voluptatem et inventore ut.', 'url': 'https://picsum.photos/640/480'}, {'title': 'Architecto nesciunt aut iste.', 'description': 'Deserunt eum velit expedita consequatur saepe. Illo ullam maiores rerum voluptas. Autem ut id voluptatem libero quod. Quis voluptates occaecati aut. Nemo doloremque est debitis animi animi.', 'url': 'https://picsum.photos/640/480'}, {'title': 'Sit esse quis voluptatum est.', 'description': 'Doloremque nobis qui cupiditate atque. Eligendi ut ex ut quasi. Non excepturi in explicabo sint aliquam aut optio deleniti. Ea est possimus repellat ab.', 'url': 'https://picsum.photos/640/480'}], 'net_price': 2299.29, 'taxes': 22, 'price': 2805.13, 'categories': [18, 19, 20, 21, 22], 'tags': ['qui', 'qui', 'nihil', 'quod', 'non', 'atque', 'porro', 'et', 'animi']}\n"
     ]
    }
   ],
   "source": [
    "import requests\n",
    "\n",
    "base_url = 'https://fakerapi.it/api/v2/'\n",
    "\n",
    "def obtener_datos(endpoint, cantidad=5):\n",
    "    url = f'{base_url}{endpoint}?_quantity={cantidad}'\n",
    "    response = requests.get(url)\n",
    "    if response.status_code == 200:\n",
    "        return response.json()['data']\n",
    "    else:\n",
    "        print(f'error al obtener datos de {endpoint}')\n",
    "        return []\n",
    "\n",
    "# obtenemos los datos de diferentes APIs\n",
    "personas = obtener_datos('persons')\n",
    "empresas = obtener_datos('companies')\n",
    "productos = obtener_datos('products')\n",
    "\n",
    "# mostrmaos los datos de las apis consultadas \n",
    "print('Personas:')\n",
    "for persona in personas:\n",
    "    print(persona)\n",
    "\n",
    "print('\\nEmpresas:')\n",
    "for empresa in empresas:\n",
    "    print(empresa)\n",
    "\n",
    "print('\\nProductos:')\n",
    "for producto in productos:\n",
    "    print(producto)\n"
   ]
  },
  {
   "cell_type": "code",
   "execution_count": null,
   "metadata": {},
   "outputs": [],
   "source": []
  }
 ],
 "metadata": {
  "kernelspec": {
   "display_name": "Python 3",
   "language": "python",
   "name": "python3"
  },
  "language_info": {
   "codemirror_mode": {
    "name": "ipython",
    "version": 3
   },
   "file_extension": ".py",
   "mimetype": "text/x-python",
   "name": "python",
   "nbconvert_exporter": "python",
   "pygments_lexer": "ipython3",
   "version": "3.13.2"
  }
 },
 "nbformat": 4,
 "nbformat_minor": 2
}
